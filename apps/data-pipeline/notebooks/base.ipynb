{
 "cells": [
  {
   "cell_type": "code",
   "execution_count": null,
   "metadata": {
    "vscode": {
     "languageId": "plaintext"
    }
   },
   "outputs": [],
   "source": [
    "import cuml\n",
    "import cupy as cp\n",
    "import numpy as np\n",
    "from azure.storage.blob import BlobServiceClient\n",
    "import io"
   ]
  },
  {
   "cell_type": "code",
   "execution_count": null,
   "metadata": {
    "vscode": {
     "languageId": "plaintext"
    }
   },
   "outputs": [],
   "source": [
    "# Replace with your actual connection string\n",
    "account_name=\"enclaveid\"\n",
    "account_key=\n",
    "connection_string = f\"DefaultEndpointsProtocol=https;AccountName={account_name};AccountKey={account_key};EndpointSuffix=core.windows.net\"\n",
    "container_name = 'enclaveid-dagster-prod-bucket'\n",
    "blob_name = 'general_interests_embeddings/clxenc3fw0007gzz3pdz6enfe.snappy'\n",
    "\n",
    "# Create the BlobServiceClient object\n",
    "blob_service_client = BlobServiceClient.from_connection_string(connection_string)\n",
    "\n",
    "# Create the BlobClient object\n",
    "blob_client = blob_service_client.get_blob_client(container=container_name, blob=blob_name)\n",
    "\n",
    "# Download the blob content to a bytes buffer\n",
    "downloaded_blob = blob_client.download_blob()\n",
    "\n",
    "# Save the blob data to a file\n",
    "with open(\"data.snappy\", \"wb\") as file:\n",
    "    downloaded_blob.readinto(file)"
   ]
  },
  {
   "cell_type": "code",
   "execution_count": null,
   "metadata": {
    "vscode": {
     "languageId": "plaintext"
    }
   },
   "outputs": [],
   "source": [
    "import polars as pl\n",
    "df = pl.read_parquet(\"data.snappy\")"
   ]
  }
 ],
 "metadata": {
  "language_info": {
   "name": "python"
  }
 },
 "nbformat": 4,
 "nbformat_minor": 2
}
